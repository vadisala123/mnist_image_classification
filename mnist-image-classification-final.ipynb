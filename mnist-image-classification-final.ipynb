{
 "cells": [
  {
   "cell_type": "code",
   "execution_count": 1,
   "metadata": {
    "ExecuteTime": {
     "end_time": "2019-12-06T17:56:57.63509Z",
     "start_time": "2019-12-06T17:56:57.331844Z"
    }
   },
   "outputs": [],
   "source": [
    "import struct as st\n",
    "import numpy as np\n",
    "import matplotlib.pyplot as plt"
   ]
  },
  {
   "cell_type": "markdown",
   "metadata": {},
   "source": [
    "In this problem, we need to correctly classify MNIST images given their true labels, so this is a multi-class classification problem and the performance of a model is estimated by accuracy."
   ]
  },
  {
   "cell_type": "code",
   "execution_count": 2,
   "metadata": {
    "ExecuteTime": {
     "end_time": "2019-12-06T17:56:57.646067Z",
     "start_time": "2019-12-06T17:56:57.63603Z"
    }
   },
   "outputs": [],
   "source": [
    "%matplotlib inline\n",
    "def read_from_idx_files(file_path, images=True):\n",
    "    with open(file_path,'rb') as f:\n",
    "        magic, size = st.unpack(\">II\", f.read(8))\n",
    "        if images:\n",
    "            n_rows, n_cols = st.unpack(\">II\", f.read(8))\n",
    "            data = np.fromfile(f, dtype=np.dtype(np.uint8).newbyteorder('>'))\n",
    "            data = data.reshape((size, n_rows, n_cols))\n",
    "        else:\n",
    "            data = np.fromfile(f, dtype=np.dtype(np.uint8).newbyteorder('>'))\n",
    "    return data"
   ]
  },
  {
   "cell_type": "markdown",
   "metadata": {},
   "source": [
    "Please note that the input files were uploaded to kaggle and the notebook was compiled using the kaggle kernel."
   ]
  },
  {
   "cell_type": "code",
   "execution_count": 3,
   "metadata": {
    "ExecuteTime": {
     "end_time": "2019-12-06T17:56:57.679971Z",
     "start_time": "2019-12-06T17:56:57.647029Z"
    }
   },
   "outputs": [],
   "source": [
    "train = read_from_idx_files('/kaggle/input/mnist-ubyte/train-images.idx3-ubyte')\n",
    "test = read_from_idx_files('/kaggle/input/mnist-ubyte/t10k-images.idx3-ubyte')\n",
    "train_labels = read_from_idx_files('/kaggle/input/mnist-ubyte/train-labels.idx1-ubyte', images=False)\n",
    "test_labels = read_from_idx_files('/kaggle/input/mnist-ubyte/t10k-labels.idx1-ubyte', images=False)"
   ]
  },
  {
   "cell_type": "code",
   "execution_count": 4,
   "metadata": {
    "ExecuteTime": {
     "end_time": "2019-12-06T17:56:57.687892Z",
     "start_time": "2019-12-06T17:56:57.680934Z"
    }
   },
   "outputs": [
    {
     "data": {
      "text/plain": [
       "((60000, 28, 28), (10000, 28, 28))"
      ]
     },
     "execution_count": 4,
     "metadata": {},
     "output_type": "execute_result"
    }
   ],
   "source": [
    "train.shape, test.shape"
   ]
  },
  {
   "cell_type": "code",
   "execution_count": 5,
   "metadata": {
    "ExecuteTime": {
     "end_time": "2019-12-06T17:56:57.694938Z",
     "start_time": "2019-12-06T17:56:57.688889Z"
    }
   },
   "outputs": [
    {
     "data": {
      "text/plain": [
       "((60000,), (10000,))"
      ]
     },
     "execution_count": 5,
     "metadata": {},
     "output_type": "execute_result"
    }
   ],
   "source": [
    "train_labels.shape, test_labels.shape"
   ]
  },
  {
   "cell_type": "code",
   "execution_count": 6,
   "metadata": {
    "ExecuteTime": {
     "end_time": "2019-12-06T17:56:57.701885Z",
     "start_time": "2019-12-06T17:56:57.695901Z"
    }
   },
   "outputs": [
    {
     "data": {
      "text/plain": [
       "array([5, 0, 4, ..., 5, 6, 8], dtype=uint8)"
      ]
     },
     "execution_count": 6,
     "metadata": {},
     "output_type": "execute_result"
    }
   ],
   "source": [
    "train_labels"
   ]
  },
  {
   "cell_type": "markdown",
   "metadata": {},
   "source": [
    "Plotting images to make sure whether we read the data properly"
   ]
  },
  {
   "cell_type": "code",
   "execution_count": 7,
   "metadata": {
    "ExecuteTime": {
     "end_time": "2019-12-06T17:56:57.813586Z",
     "start_time": "2019-12-06T17:56:57.702851Z"
    }
   },
   "outputs": [
    {
     "data": {
      "image/png": "[encoded data removed]",
      "text/plain": [
       "<Figure size 432x288 with 1 Axes>"
      ]
     },
     "metadata": {
      "needs_background": "light"
     },
     "output_type": "display_data"
    }
   ],
   "source": [
    "plt.imshow(train[0,:,:], cmap='gray')\n",
    "plt.show()"
   ]
  },
  {
   "cell_type": "markdown",
   "metadata": {},
   "source": [
    "Splitting data into training and validation data for model development and comparison"
   ]
  },
  {
   "cell_type": "code",
   "execution_count": 8,
   "metadata": {
    "ExecuteTime": {
     "end_time": "2019-12-06T17:56:58.53627Z",
     "start_time": "2019-12-06T17:56:57.815551Z"
    }
   },
   "outputs": [],
   "source": [
    "from sklearn.model_selection import train_test_split"
   ]
  },
  {
   "cell_type": "code",
   "execution_count": 9,
   "metadata": {
    "ExecuteTime": {
     "end_time": "2019-12-06T17:56:58.882845Z",
     "start_time": "2019-12-06T17:56:58.5373Z"
    }
   },
   "outputs": [],
   "source": [
    "import pandas as pd"
   ]
  },
  {
   "cell_type": "markdown",
   "metadata": {},
   "source": [
    "No. of Images per class "
   ]
  },
  {
   "cell_type": "code",
   "execution_count": 10,
   "metadata": {
    "ExecuteTime": {
     "end_time": "2019-12-06T17:56:58.890793Z",
     "start_time": "2019-12-06T17:56:58.883812Z"
    }
   },
   "outputs": [
    {
     "data": {
      "text/plain": [
       "0    5923\n",
       "1    6742\n",
       "2    5958\n",
       "3    6131\n",
       "4    5842\n",
       "5    5421\n",
       "6    5918\n",
       "7    6265\n",
       "8    5851\n",
       "9    5949\n",
       "dtype: int64"
      ]
     },
     "execution_count": 10,
     "metadata": {},
     "output_type": "execute_result"
    }
   ],
   "source": [
    "pd.Series(train_labels).value_counts().sort_index()"
   ]
  },
  {
   "cell_type": "code",
   "execution_count": 11,
   "metadata": {
    "ExecuteTime": {
     "end_time": "2019-12-06T17:56:58.943705Z",
     "start_time": "2019-12-06T17:56:58.891823Z"
    }
   },
   "outputs": [],
   "source": [
    "X_train, X_valid, y_train, y_valid = train_test_split(train, train_labels, test_size=10000, random_state=42)"
   ]
  },
  {
   "cell_type": "code",
   "execution_count": 12,
   "metadata": {
    "ExecuteTime": {
     "end_time": "2019-12-06T17:56:58.948674Z",
     "start_time": "2019-12-06T17:56:58.944683Z"
    }
   },
   "outputs": [
    {
     "data": {
      "text/plain": [
       "((50000, 28, 28), (10000, 28, 28), (50000,), (10000,))"
      ]
     },
     "execution_count": 12,
     "metadata": {},
     "output_type": "execute_result"
    }
   ],
   "source": [
    "X_train.shape, X_valid.shape, y_train.shape, y_valid.shape"
   ]
  },
  {
   "cell_type": "markdown",
   "metadata": {},
   "source": [
    "As a part of the assignment, we will be compiling two models and compare the accuracies and then we will be predicting the labels of the test data using the best model"
   ]
  },
  {
   "cell_type": "markdown",
   "metadata": {},
   "source": [
    "### SVM Classifier"
   ]
  },
  {
   "cell_type": "markdown",
   "metadata": {},
   "source": [
    "Normalizing the input image so that pixel intensities will be in the range of 0 to 1"
   ]
  },
  {
   "cell_type": "code",
   "execution_count": 13,
   "metadata": {
    "ExecuteTime": {
     "end_time": "2019-12-06T17:56:59.11324Z",
     "start_time": "2019-12-06T17:56:58.94964Z"
    }
   },
   "outputs": [],
   "source": [
    "X_train = X_train / 255\n",
    "X_valid = X_valid / 255"
   ]
  },
  {
   "cell_type": "code",
   "execution_count": 14,
   "metadata": {
    "ExecuteTime": {
     "end_time": "2019-12-06T17:56:59.11819Z",
     "start_time": "2019-12-06T17:56:59.114237Z"
    }
   },
   "outputs": [
    {
     "data": {
      "text/plain": [
       "(50000, 28, 28)"
      ]
     },
     "execution_count": 14,
     "metadata": {},
     "output_type": "execute_result"
    }
   ],
   "source": [
    "X_train.shape"
   ]
  },
  {
   "cell_type": "markdown",
   "metadata": {},
   "source": [
    "To employ Classification in SVM, we need to change the image into a 1d vector"
   ]
  },
  {
   "cell_type": "code",
   "execution_count": 15,
   "metadata": {
    "ExecuteTime": {
     "end_time": "2019-12-06T17:56:59.143123Z",
     "start_time": "2019-12-06T17:56:59.139166Z"
    }
   },
   "outputs": [],
   "source": [
    "X_train = X_train.reshape(X_train.shape[0], 28 * 28)\n",
    "X_valid = X_valid.reshape(X_valid.shape[0], 28 * 28)"
   ]
  },
  {
   "cell_type": "code",
   "execution_count": 16,
   "metadata": {
    "ExecuteTime": {
     "end_time": "2019-12-06T17:56:59.170051Z",
     "start_time": "2019-12-06T17:56:59.144121Z"
    }
   },
   "outputs": [
    {
     "data": {
      "text/plain": [
       "SVC(C=1, cache_size=200, class_weight=None, coef0=0.0,\n",
       "    decision_function_shape='ovo', degree=3, gamma='auto', kernel='rbf',\n",
       "    max_iter=-1, probability=False, random_state=42, shrinking=True, tol=0.001,\n",
       "    verbose=False)"
      ]
     },
     "execution_count": 16,
     "metadata": {},
     "output_type": "execute_result"
    }
   ],
   "source": [
    "from sklearn.svm import SVC\n",
    "clf = SVC(C=1, kernel='rbf', gamma='auto', random_state=42, decision_function_shape='ovo')\n",
    "\n",
    "clf.fit(X_train, y_train)"
   ]
  },
  {
   "cell_type": "code",
   "execution_count": 17,
   "metadata": {
    "ExecuteTime": {
     "end_time": "2019-12-06T17:56:59.174046Z",
     "start_time": "2019-12-06T17:56:59.171049Z"
    }
   },
   "outputs": [],
   "source": [
    "y_pred = clf.predict(X_valid)"
   ]
  },
  {
   "cell_type": "code",
   "execution_count": 18,
   "metadata": {
    "ExecuteTime": {
     "end_time": "2019-12-06T17:56:59.180025Z",
     "start_time": "2019-12-06T17:56:59.175039Z"
    }
   },
   "outputs": [],
   "source": [
    "from sklearn.metrics import accuracy_score, confusion_matrix\n",
    "from sklearn.metrics import precision_recall_fscore_support"
   ]
  },
  {
   "cell_type": "markdown",
   "metadata": {},
   "source": [
    "Training Accuracy"
   ]
  },
  {
   "cell_type": "code",
   "execution_count": 19,
   "metadata": {
    "ExecuteTime": {
     "end_time": "2019-12-06T17:56:59.186008Z",
     "start_time": "2019-12-06T17:56:59.181022Z"
    }
   },
   "outputs": [
    {
     "data": {
      "text/plain": [
       "0.94056"
      ]
     },
     "execution_count": 19,
     "metadata": {},
     "output_type": "execute_result"
    }
   ],
   "source": [
    "accuracy_score(y_train, clf.predict(X_train))"
   ]
  },
  {
   "cell_type": "markdown",
   "metadata": {},
   "source": [
    "Validation accuracy"
   ]
  },
  {
   "cell_type": "code",
   "execution_count": 20,
   "metadata": {
    "ExecuteTime": {
     "end_time": "2019-12-06T17:56:59.193986Z",
     "start_time": "2019-12-06T17:56:59.189001Z"
    }
   },
   "outputs": [
    {
     "data": {
      "text/plain": [
       "0.9401"
      ]
     },
     "execution_count": 20,
     "metadata": {},
     "output_type": "execute_result"
    }
   ],
   "source": [
    "accuracy_score(y_valid, y_pred)"
   ]
  },
  {
   "cell_type": "code",
   "execution_count": 21,
   "metadata": {
    "ExecuteTime": {
     "end_time": "2019-12-06T17:56:59.215928Z",
     "start_time": "2019-12-06T17:56:59.207952Z"
    }
   },
   "outputs": [],
   "source": [
    "import itertools\n",
    "def plot_confusion_matrix(cm, classes,\n",
    "                          normalize=False,\n",
    "                          title='Confusion matrix',\n",
    "                          cmap=plt.cm.Blues):\n",
    "    \"\"\"\n",
    "    This function prints and plots the confusion matrix.\n",
    "    Normalization can be applied by setting `normalize=True`.\n",
    "    \"\"\"\n",
    "    plt.imshow(cm, cmap=cmap)\n",
    "    plt.title(title)\n",
    "    plt.colorbar()\n",
    "    tick_marks = np.arange(len(classes))\n",
    "    plt.xticks(tick_marks, classes)\n",
    "    plt.yticks(tick_marks, classes)\n",
    "\n",
    "    if normalize:\n",
    "        cm = cm.astype('float') / cm.sum(axis=1)[:, np.newaxis]\n",
    "\n",
    "    thresh = cm.max() / 2.\n",
    "    for i, j in itertools.product(range(cm.shape[0]), range(cm.shape[1])):\n",
    "        plt.text(j, i, cm[i, j], ha=\"center\",\n",
    "                 color=\"white\" if cm[i, j] > thresh else \"black\")\n",
    "\n",
    "    plt.tight_layout()\n",
    "    plt.ylabel('True label')\n",
    "    plt.xlabel('Predicted label')"
   ]
  },
  {
   "cell_type": "code",
   "execution_count": 22,
   "metadata": {},
   "outputs": [],
   "source": [
    "confusion_mtx = confusion_matrix(y_valid, y_pred)"
   ]
  },
  {
   "cell_type": "code",
   "execution_count": 23,
   "metadata": {},
   "outputs": [
    {
     "data": {
      "text/plain": [
       "array([[ 954,    0,    5,    4,    3,    8,    2,    0,    7,    1],\n",
       "       [   0, 1072,    7,    4,    1,    1,    1,    0,    6,    1],\n",
       "       [   2,   10,  926,    6,   12,    5,   10,    8,   13,    2],\n",
       "       [   4,    5,   16,  911,    0,   28,    1,    7,   21,    7],\n",
       "       [   2,    2,    7,    0,  938,    1,    3,    3,    1,   23],\n",
       "       [   8,   13,    5,   20,    9,  839,   12,    2,   10,    1],\n",
       "       [   8,    1,    2,    0,    4,    8,  954,    0,    4,    0],\n",
       "       [   2,   15,   14,    3,   11,    4,    0,  995,    4,   12],\n",
       "       [   4,   12,    7,   19,    9,   23,    5,    4,  893,    3],\n",
       "       [   4,    5,    7,   10,   31,    4,    0,   23,    7,  919]])"
      ]
     },
     "execution_count": 23,
     "metadata": {},
     "output_type": "execute_result"
    }
   ],
   "source": [
    "confusion_mtx"
   ]
  },
  {
   "cell_type": "markdown",
   "metadata": {},
   "source": [
    "Inferences from Confusion Matrix:\n",
    "1. images of 9 are misclassified as 4 and 7.\n",
    "2. images of 7 are misclassified as 1 as does the images of 8\n",
    "3. Also, images of 3 are misclassified as 5"
   ]
  },
  {
   "cell_type": "code",
   "execution_count": 24,
   "metadata": {
    "ExecuteTime": {
     "end_time": "2019-12-06T17:56:59.221934Z",
     "start_time": "2019-12-06T17:56:59.217923Z"
    }
   },
   "outputs": [
    {
     "data": {
      "image/png": "[encoded data removed]",
      "text/plain": [
       "<Figure size 720x504 with 2 Axes>"
      ]
     },
     "metadata": {
      "needs_background": "light"
     },
     "output_type": "display_data"
    }
   ],
   "source": [
    "plt.figure(figsize = (10,7))\n",
    "plot_confusion_matrix(confusion_mtx, classes = range(10))\n",
    "plt.show()"
   ]
  },
  {
   "cell_type": "code",
   "execution_count": 25,
   "metadata": {},
   "outputs": [
    {
     "name": "stdout",
     "output_type": "stream",
     "text": [
      "              precision    recall  f1-score   support\n",
      "\n",
      "           0       0.97      0.97      0.97       984\n",
      "           1       0.94      0.98      0.96      1093\n",
      "           2       0.93      0.93      0.93       994\n",
      "           3       0.93      0.91      0.92      1000\n",
      "           4       0.92      0.96      0.94       980\n",
      "           5       0.91      0.91      0.91       919\n",
      "           6       0.97      0.97      0.97       981\n",
      "           7       0.95      0.94      0.95      1060\n",
      "           8       0.92      0.91      0.92       979\n",
      "           9       0.95      0.91      0.93      1010\n",
      "\n",
      "    accuracy                           0.94     10000\n",
      "   macro avg       0.94      0.94      0.94     10000\n",
      "weighted avg       0.94      0.94      0.94     10000\n",
      "\n"
     ]
    }
   ],
   "source": [
    "from sklearn.metrics import classification_report\n",
    "print(classification_report(y_valid, y_pred))"
   ]
  },
  {
   "cell_type": "markdown",
   "metadata": {},
   "source": [
    "SVM Classifier has a decent accuracy, but let us explore to acheive accuracy more than it"
   ]
  },
  {
   "cell_type": "markdown",
   "metadata": {},
   "source": [
    "### Convultion Neural Network"
   ]
  },
  {
   "cell_type": "code",
   "execution_count": 26,
   "metadata": {
    "ExecuteTime": {
     "end_time": "2019-12-06T17:57:00.976844Z",
     "start_time": "2019-12-06T17:56:59.228893Z"
    }
   },
   "outputs": [
    {
     "name": "stderr",
     "output_type": "stream",
     "text": [
      "Using TensorFlow backend.\n"
     ]
    }
   ],
   "source": [
    "from keras.utils.np_utils import to_categorical\n",
    "from keras.preprocessing.image import ImageDataGenerator"
   ]
  },
  {
   "cell_type": "code",
   "execution_count": 27,
   "metadata": {
    "ExecuteTime": {
     "end_time": "2019-12-06T17:57:01.052638Z",
     "start_time": "2019-12-06T17:57:00.97776Z"
    }
   },
   "outputs": [],
   "source": [
    "X_train, X_valid, y_train, y_valid = train_test_split(train, train_labels, test_size=10000, random_state=42)"
   ]
  },
  {
   "cell_type": "code",
   "execution_count": 28,
   "metadata": {
    "ExecuteTime": {
     "end_time": "2019-12-06T17:57:01.204794Z",
     "start_time": "2019-12-06T17:57:01.053634Z"
    }
   },
   "outputs": [],
   "source": [
    "X_train = X_train / 255\n",
    "X_valid = X_valid / 255"
   ]
  },
  {
   "cell_type": "code",
   "execution_count": 29,
   "metadata": {
    "ExecuteTime": {
     "end_time": "2019-12-06T17:57:01.209745Z",
     "start_time": "2019-12-06T17:57:01.205799Z"
    }
   },
   "outputs": [],
   "source": [
    "X_train = X_train.reshape(X_train.shape[0], 28, 28, 1)\n",
    "X_valid = X_valid.reshape(X_valid.shape[0], 28, 28, 1)"
   ]
  },
  {
   "cell_type": "code",
   "execution_count": 30,
   "metadata": {
    "ExecuteTime": {
     "end_time": "2019-12-06T17:57:01.215753Z",
     "start_time": "2019-12-06T17:57:01.210741Z"
    }
   },
   "outputs": [],
   "source": [
    "y_train = to_categorical(y_train, num_classes = 10)\n",
    "y_valid = to_categorical(y_valid, num_classes = 10)"
   ]
  },
  {
   "cell_type": "code",
   "execution_count": 31,
   "metadata": {},
   "outputs": [],
   "source": [
    "from tensorflow.python.framework import ops\n",
    "ops.reset_default_graph()"
   ]
  },
  {
   "cell_type": "code",
   "execution_count": 32,
   "metadata": {},
   "outputs": [],
   "source": [
    "from tensorflow.keras.models import Sequential\n",
    "from tensorflow.keras.layers import Conv2D, MaxPool2D, Flatten, Dense, Dropout"
   ]
  },
  {
   "cell_type": "markdown",
   "metadata": {},
   "source": [
    "Here, we will be using a Convolution Neural Network with 2 Convolution layers, one with 32 filters and another with 64 filters, in the final layer, we used RELU activation to add non-linearity to the network. For the output layer, we used Softmax activation to determine probabalities for each class separately."
   ]
  },
  {
   "cell_type": "code",
   "execution_count": 33,
   "metadata": {
    "ExecuteTime": {
     "end_time": "2019-12-06T17:57:02.938068Z",
     "start_time": "2019-12-06T17:57:01.216724Z"
    }
   },
   "outputs": [],
   "source": [
    "model = Sequential()\n",
    "\n",
    "model.add(Conv2D(filters = 32, kernel_size = (5,5),padding = 'Same', \n",
    "                 activation ='relu', input_shape = (28,28,1)))\n",
    "model.add(MaxPool2D(pool_size=(2,2)))\n",
    "model.add(Dropout(0.25))\n",
    "\n",
    "\n",
    "model.add(Conv2D(filters = 64, kernel_size = (3,3),padding = 'Same', \n",
    "                 activation ='relu'))\n",
    "model.add(MaxPool2D(pool_size=(2,2), strides=(2,2)))\n",
    "model.add(Dropout(0.25))\n",
    "\n",
    "\n",
    "model.add(Flatten())\n",
    "model.add(Dense(256, activation = \"relu\"))\n",
    "model.add(Dropout(0.5))\n",
    "model.add(Dense(10, activation = \"softmax\"))"
   ]
  },
  {
   "cell_type": "code",
   "execution_count": 34,
   "metadata": {
    "ExecuteTime": {
     "end_time": "2019-12-06T17:57:02.942014Z",
     "start_time": "2019-12-06T17:57:02.939032Z"
    }
   },
   "outputs": [],
   "source": [
    "np.random.seed(42)"
   ]
  },
  {
   "cell_type": "markdown",
   "metadata": {},
   "source": [
    "For the data augmentation, we used\n",
    "\n",
    "* Rotation of some training images by 10 degrees\n",
    "* Zooming by 10% for some training images\n",
    "* shifting images horizontally by 10% of the width\n",
    "* shifting  images vertically by 10% of the height"
   ]
  },
  {
   "cell_type": "code",
   "execution_count": 35,
   "metadata": {
    "ExecuteTime": {
     "end_time": "2019-12-06T18:07:52.669392Z",
     "start_time": "2019-12-06T18:07:52.665403Z"
    }
   },
   "outputs": [],
   "source": [
    "datagen = ImageDataGenerator(\n",
    "        featurewise_center=False,\n",
    "        samplewise_center=False, \n",
    "        featurewise_std_normalization=False,\n",
    "        samplewise_std_normalization=False, \n",
    "        zca_whitening=False,\n",
    "        rotation_range=10,  # randomly rotate images in the range (degrees, 0 to 180)\n",
    "        zoom_range = 0.1, # Randomly zoom image \n",
    "        width_shift_range=0.1,  # randomly shift images horizontally (fraction of total width)\n",
    "        height_shift_range=0.1,  # randomly shift images vertically (fraction of total height)\n",
    "        horizontal_flip=False,\n",
    "        vertical_flip=False)"
   ]
  },
  {
   "cell_type": "code",
   "execution_count": 36,
   "metadata": {
    "ExecuteTime": {
     "end_time": "2019-12-06T18:08:26.90383Z",
     "start_time": "2019-12-06T18:08:26.898845Z"
    }
   },
   "outputs": [],
   "source": [
    "epochs = 10\n",
    "batch_size = 50"
   ]
  },
  {
   "cell_type": "markdown",
   "metadata": {},
   "source": [
    "Using RMSprop Optimizer and with the ReduceLROnPlateau function from Keras callbacks, we choose to reduce the LR by half if the accuracy is not improved after 3 epochs."
   ]
  },
  {
   "cell_type": "code",
   "execution_count": 37,
   "metadata": {},
   "outputs": [],
   "source": [
    "from tensorflow.compat.v1.keras.optimizers import RMSprop\n",
    "from tensorflow.compat.v1.keras.callbacks import ReduceLROnPlateau"
   ]
  },
  {
   "cell_type": "code",
   "execution_count": 38,
   "metadata": {
    "ExecuteTime": {
     "end_time": "2019-12-06T18:12:51.800866Z",
     "start_time": "2019-12-06T18:08:44.660341Z"
    }
   },
   "outputs": [
    {
     "name": "stdout",
     "output_type": "stream",
     "text": [
      "Train for 1000 steps, validate on 10000 samples\n",
      "Epoch 1/10\n",
      "1000/1000 - 53s - loss: 0.3726 - accuracy: 0.8817 - val_loss: 0.0620 - val_accuracy: 0.9807\n",
      "Epoch 2/10\n",
      "1000/1000 - 53s - loss: 0.1434 - accuracy: 0.9570 - val_loss: 0.0441 - val_accuracy: 0.9860\n",
      "Epoch 3/10\n",
      "1000/1000 - 52s - loss: 0.1130 - accuracy: 0.9665 - val_loss: 0.0374 - val_accuracy: 0.9880\n",
      "Epoch 4/10\n",
      "1000/1000 - 52s - loss: 0.1086 - accuracy: 0.9685 - val_loss: 0.0402 - val_accuracy: 0.9877\n",
      "Epoch 5/10\n",
      "1000/1000 - 53s - loss: 0.1036 - accuracy: 0.9706 - val_loss: 0.0381 - val_accuracy: 0.9877\n",
      "Epoch 6/10\n",
      "1000/1000 - 52s - loss: 0.1075 - accuracy: 0.9698 - val_loss: 0.0348 - val_accuracy: 0.9899\n",
      "Epoch 7/10\n",
      "1000/1000 - 52s - loss: 0.1086 - accuracy: 0.9700 - val_loss: 0.0364 - val_accuracy: 0.9903\n",
      "Epoch 8/10\n",
      "1000/1000 - 52s - loss: 0.1083 - accuracy: 0.9699 - val_loss: 0.0406 - val_accuracy: 0.9893\n",
      "Epoch 9/10\n",
      "1000/1000 - 52s - loss: 0.1107 - accuracy: 0.9698 - val_loss: 0.0452 - val_accuracy: 0.9886\n",
      "Epoch 10/10\n",
      "1000/1000 - 51s - loss: 0.1113 - accuracy: 0.9703 - val_loss: 0.0404 - val_accuracy: 0.9887\n"
     ]
    }
   ],
   "source": [
    "learning_rate_reduction = ReduceLROnPlateau(monitor='val_acc', \n",
    "                                            patience=3, \n",
    "                                            verbose=1, \n",
    "                                            factor=0.5, \n",
    "                                            min_lr=0.00001)\n",
    "\n",
    "optimizer = RMSprop(lr=0.001, rho=0.9, epsilon=1e-08, decay=0.0)\n",
    "\n",
    "model.compile(optimizer = optimizer , loss = \"categorical_crossentropy\", metrics=[\"accuracy\"])\n",
    "history = model.fit_generator(datagen.flow(X_train, y_train, batch_size=batch_size),\n",
    "                              epochs = epochs, validation_data = (X_valid, y_valid),\n",
    "                              verbose = 2, steps_per_epoch=X_train.shape[0] // batch_size\n",
    "                              , callbacks=[learning_rate_reduction])"
   ]
  },
  {
   "cell_type": "markdown",
   "metadata": {},
   "source": [
    "Plot to check the accuracies and loss of training and validation data per epoch"
   ]
  },
  {
   "cell_type": "code",
   "execution_count": 39,
   "metadata": {
    "ExecuteTime": {
     "end_time": "2019-12-06T18:17:20.413922Z",
     "start_time": "2019-12-06T18:17:20.206471Z"
    }
   },
   "outputs": [
    {
     "data": {
      "image/png": "[encoded data removed]",
      "text/plain": [
       "<Figure size 432x288 with 2 Axes>"
      ]
     },
     "metadata": {
      "needs_background": "light"
     },
     "output_type": "display_data"
    }
   ],
   "source": [
    "fig, ax = plt.subplots(2,1)\n",
    "ax[0].plot(history.history['loss'], color='b', label=\"Training loss\")\n",
    "ax[0].plot(history.history['val_loss'], color='r', label=\"validation loss\",axes =ax[0])\n",
    "legend = ax[0].legend(loc='best', shadow=True)\n",
    "\n",
    "ax[1].plot(history.history['accuracy'], color='b', label=\"Training accuracy\")\n",
    "ax[1].plot(history.history['val_accuracy'], color='r',label=\"Validation accuracy\")\n",
    "legend = ax[1].legend(loc='best', shadow=True)"
   ]
  },
  {
   "cell_type": "code",
   "execution_count": 40,
   "metadata": {
    "ExecuteTime": {
     "end_time": "2019-12-06T18:19:02.849941Z",
     "start_time": "2019-12-06T18:19:02.091948Z"
    }
   },
   "outputs": [],
   "source": [
    "# Convert predictions classes to one hot vectors \n",
    "y_pred = np.argmax(model.predict(X_valid), axis = 1) \n",
    "# Convert validation observations to one hot vectors\n",
    "y_true = np.argmax(y_valid, axis = 1)"
   ]
  },
  {
   "cell_type": "code",
   "execution_count": 41,
   "metadata": {
    "ExecuteTime": {
     "end_time": "2019-12-06T18:19:26.963452Z",
     "start_time": "2019-12-06T18:19:26.957473Z"
    }
   },
   "outputs": [
    {
     "data": {
      "text/plain": [
       "0.9887"
      ]
     },
     "execution_count": 41,
     "metadata": {},
     "output_type": "execute_result"
    }
   ],
   "source": [
    "accuracy_score(y_true, y_pred)"
   ]
  },
  {
   "cell_type": "code",
   "execution_count": 42,
   "metadata": {
    "ExecuteTime": {
     "end_time": "2019-12-06T18:19:51.97357Z",
     "start_time": "2019-12-06T18:19:51.962599Z"
    }
   },
   "outputs": [
    {
     "data": {
      "text/plain": [
       "array([[ 975,    0,    2,    0,    0,    0,    4,    0,    3,    0],\n",
       "       [   1, 1079,   11,    0,    0,    0,    0,    2,    0,    0],\n",
       "       [   0,    2,  983,    2,    0,    0,    0,    4,    2,    1],\n",
       "       [   0,    0,    2,  994,    0,    3,    0,    0,    0,    1],\n",
       "       [   0,    0,    0,    0,  975,    0,    0,    0,    0,    5],\n",
       "       [   1,    0,    0,    3,    1,  904,    5,    0,    4,    1],\n",
       "       [   0,    0,    0,    0,    1,    0,  977,    0,    3,    0],\n",
       "       [   0,    0,    2,    0,    3,    0,    0, 1053,    2,    0],\n",
       "       [   1,    0,    5,    1,    4,    1,    2,    2,  961,    2],\n",
       "       [   1,    0,    0,    1,   10,    1,    0,    8,    3,  986]])"
      ]
     },
     "execution_count": 42,
     "metadata": {},
     "output_type": "execute_result"
    }
   ],
   "source": [
    "confusion_matrix(y_true, y_pred) "
   ]
  },
  {
   "cell_type": "code",
   "execution_count": 43,
   "metadata": {
    "ExecuteTime": {
     "end_time": "2019-12-06T18:20:12.762967Z",
     "start_time": "2019-12-06T18:20:12.385975Z"
    }
   },
   "outputs": [
    {
     "data": {
      "image/png": "[encoded data removed]",
      "text/plain": [
       "<Figure size 432x288 with 2 Axes>"
      ]
     },
     "metadata": {
      "needs_background": "light"
     },
     "output_type": "display_data"
    }
   ],
   "source": [
    "plot_confusion_matrix(confusion_matrix(y_true, y_pred) , classes = range(10))"
   ]
  },
  {
   "cell_type": "markdown",
   "metadata": {},
   "source": [
    "The amount of misclassications have significantly decreased for 9s"
   ]
  },
  {
   "cell_type": "code",
   "execution_count": 44,
   "metadata": {},
   "outputs": [
    {
     "name": "stdout",
     "output_type": "stream",
     "text": [
      "              precision    recall  f1-score   support\n",
      "\n",
      "           0       1.00      0.99      0.99       984\n",
      "           1       1.00      0.99      0.99      1093\n",
      "           2       0.98      0.99      0.98       994\n",
      "           3       0.99      0.99      0.99      1000\n",
      "           4       0.98      0.99      0.99       980\n",
      "           5       0.99      0.98      0.99       919\n",
      "           6       0.99      1.00      0.99       981\n",
      "           7       0.99      0.99      0.99      1060\n",
      "           8       0.98      0.98      0.98       979\n",
      "           9       0.99      0.98      0.98      1010\n",
      "\n",
      "    accuracy                           0.99     10000\n",
      "   macro avg       0.99      0.99      0.99     10000\n",
      "weighted avg       0.99      0.99      0.99     10000\n",
      "\n"
     ]
    }
   ],
   "source": [
    "print(classification_report(y_true, y_pred))"
   ]
  },
  {
   "cell_type": "markdown",
   "metadata": {},
   "source": [
    "This model was way better than the SVM model, so finally using this to test it on our test data"
   ]
  },
  {
   "cell_type": "code",
   "execution_count": 45,
   "metadata": {
    "ExecuteTime": {
     "end_time": "2019-12-06T18:27:34.496545Z",
     "start_time": "2019-12-06T18:27:34.460607Z"
    }
   },
   "outputs": [],
   "source": [
    "test = test.reshape(test.shape[0], 28, 28, 1)\n",
    "test = test / 255"
   ]
  },
  {
   "cell_type": "code",
   "execution_count": 46,
   "metadata": {
    "ExecuteTime": {
     "end_time": "2019-12-06T18:28:07.634928Z",
     "start_time": "2019-12-06T18:28:06.935751Z"
    }
   },
   "outputs": [],
   "source": [
    "test_predictions = model.predict(test)"
   ]
  },
  {
   "cell_type": "code",
   "execution_count": 47,
   "metadata": {
    "ExecuteTime": {
     "end_time": "2019-12-06T18:28:29.909308Z",
     "start_time": "2019-12-06T18:28:29.905319Z"
    }
   },
   "outputs": [],
   "source": [
    "test_predictions = np.argmax(test_predictions, axis = 1) "
   ]
  },
  {
   "cell_type": "code",
   "execution_count": 48,
   "metadata": {
    "ExecuteTime": {
     "end_time": "2019-12-06T18:28:57.032765Z",
     "start_time": "2019-12-06T18:28:57.027783Z"
    }
   },
   "outputs": [
    {
     "data": {
      "text/plain": [
       "0.9911"
      ]
     },
     "execution_count": 48,
     "metadata": {},
     "output_type": "execute_result"
    }
   ],
   "source": [
    "accuracy_score(test_labels, test_predictions)"
   ]
  },
  {
   "cell_type": "code",
   "execution_count": 49,
   "metadata": {},
   "outputs": [
    {
     "name": "stdout",
     "output_type": "stream",
     "text": [
      "              precision    recall  f1-score   support\n",
      "\n",
      "           0       1.00      0.99      0.99       980\n",
      "           1       0.99      0.99      0.99      1135\n",
      "           2       0.99      1.00      0.99      1032\n",
      "           3       0.99      1.00      0.99      1010\n",
      "           4       0.99      0.99      0.99       982\n",
      "           5       0.99      0.99      0.99       892\n",
      "           6       0.99      0.99      0.99       958\n",
      "           7       0.98      0.99      0.99      1028\n",
      "           8       0.99      0.99      0.99       974\n",
      "           9       0.99      0.98      0.99      1009\n",
      "\n",
      "    accuracy                           0.99     10000\n",
      "   macro avg       0.99      0.99      0.99     10000\n",
      "weighted avg       0.99      0.99      0.99     10000\n",
      "\n"
     ]
    }
   ],
   "source": [
    "print(classification_report(test_labels, test_predictions))"
   ]
  },
  {
   "cell_type": "code",
   "execution_count": 50,
   "metadata": {},
   "outputs": [
    {
     "data": {
      "image/png": "[encoded data removed]",
      "text/plain": [
       "<Figure size 432x288 with 2 Axes>"
      ]
     },
     "metadata": {
      "needs_background": "light"
     },
     "output_type": "display_data"
    }
   ],
   "source": [
    "plot_confusion_matrix(confusion_matrix(test_labels, test_predictions) , classes = range(10))"
   ]
  },
  {
   "cell_type": "markdown",
   "metadata": {},
   "source": [
    "Using our convolution neural network, we achieved an accuracy of 99.08% on the test data, so we will go with this model as our final model"
   ]
  }
 ],
 "metadata": {
  "kernelspec": {
   "display_name": "Python 3",
   "language": "python",
   "name": "python3"
  },
  "language_info": {
   "codemirror_mode": {
    "name": "ipython",
    "version": 3
   },
   "file_extension": ".py",
   "mimetype": "text/x-python",
   "name": "python",
   "nbconvert_exporter": "python",
   "pygments_lexer": "ipython3",
   "version": "3.7.4"
  },
  "toc": {
   "base_numbering": 1,
   "nav_menu": {},
   "number_sections": true,
   "sideBar": true,
   "skip_h1_title": false,
   "title_cell": "Table of Contents",
   "title_sidebar": "Contents",
   "toc_cell": false,
   "toc_position": {},
   "toc_section_display": true,
   "toc_window_display": false
  }
 },
 "nbformat": 4,
 "nbformat_minor": 1
}
